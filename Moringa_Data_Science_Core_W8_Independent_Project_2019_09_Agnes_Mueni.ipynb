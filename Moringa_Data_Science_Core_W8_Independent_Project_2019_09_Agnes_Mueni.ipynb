{
  "nbformat": 4,
  "nbformat_minor": 0,
  "metadata": {
    "colab": {
      "name": "Moringa_Data_Science_Core_W8_Independent_Project_2019_09_Agnes_Mueni.ipynb",
      "provenance": [],
      "collapsed_sections": [],
      "include_colab_link": true
    },
    "kernelspec": {
      "name": "python3",
      "display_name": "Python 3"
    },
    "accelerator": "GPU"
  },
  "cells": [
    {
      "cell_type": "markdown",
      "metadata": {
        "id": "view-in-github",
        "colab_type": "text"
      },
      "source": [
        "<a href=\"https://colab.research.google.com/github/mwinzie/Nairobi-Hospital-Hypothyroidism-Model/blob/master/Moringa_Data_Science_Core_W8_Independent_Project_2019_09_Agnes_Mueni.ipynb\" target=\"_parent\"><img src=\"https://colab.research.google.com/assets/colab-badge.svg\" alt=\"Open In Colab\"/></a>"
      ]
    },
    {
      "cell_type": "code",
      "metadata": {
        "id": "jDGXuQD3yqzt",
        "colab_type": "code",
        "colab": {}
      },
      "source": [
        "#importing the necessary libraries\n",
        "import pandas as pd\n",
        "import numpy as np\n",
        "import matplotlib.pyplot as plt\n",
        "import seaborn as sns\n",
        "import warnings\n",
        "warnings.filterwarnings('ignore')"
      ],
      "execution_count": 0,
      "outputs": []
    },
    {
      "cell_type": "code",
      "metadata": {
        "id": "prMi8Yduy-lI",
        "colab_type": "code",
        "outputId": "83255452-2e64-4d53-9f71-d856540a7f5f",
        "colab": {
          "base_uri": "https://localhost:8080/",
          "height": 217
        }
      },
      "source": [
        "#loading the hypothyroid dataset\n",
        "hyp = pd.read_csv('hypothyroid.csv')\n",
        "\n",
        "#previewing the first 5 observations in the dataset\n",
        "hyp.head()"
      ],
      "execution_count": 2,
      "outputs": [
        {
          "output_type": "execute_result",
          "data": {
            "text/html": [
              "<div>\n",
              "<style scoped>\n",
              "    .dataframe tbody tr th:only-of-type {\n",
              "        vertical-align: middle;\n",
              "    }\n",
              "\n",
              "    .dataframe tbody tr th {\n",
              "        vertical-align: top;\n",
              "    }\n",
              "\n",
              "    .dataframe thead th {\n",
              "        text-align: right;\n",
              "    }\n",
              "</style>\n",
              "<table border=\"1\" class=\"dataframe\">\n",
              "  <thead>\n",
              "    <tr style=\"text-align: right;\">\n",
              "      <th></th>\n",
              "      <th>status</th>\n",
              "      <th>age</th>\n",
              "      <th>sex</th>\n",
              "      <th>on_thyroxine</th>\n",
              "      <th>query_on_thyroxine</th>\n",
              "      <th>on_antithyroid_medication</th>\n",
              "      <th>thyroid_surgery</th>\n",
              "      <th>query_hypothyroid</th>\n",
              "      <th>query_hyperthyroid</th>\n",
              "      <th>pregnant</th>\n",
              "      <th>sick</th>\n",
              "      <th>tumor</th>\n",
              "      <th>lithium</th>\n",
              "      <th>goitre</th>\n",
              "      <th>TSH_measured</th>\n",
              "      <th>TSH</th>\n",
              "      <th>T3_measured</th>\n",
              "      <th>T3</th>\n",
              "      <th>TT4_measured</th>\n",
              "      <th>TT4</th>\n",
              "      <th>T4U_measured</th>\n",
              "      <th>T4U</th>\n",
              "      <th>FTI_measured</th>\n",
              "      <th>FTI</th>\n",
              "      <th>TBG_measured</th>\n",
              "      <th>TBG</th>\n",
              "    </tr>\n",
              "  </thead>\n",
              "  <tbody>\n",
              "    <tr>\n",
              "      <th>0</th>\n",
              "      <td>hypothyroid</td>\n",
              "      <td>72</td>\n",
              "      <td>M</td>\n",
              "      <td>f</td>\n",
              "      <td>f</td>\n",
              "      <td>f</td>\n",
              "      <td>f</td>\n",
              "      <td>f</td>\n",
              "      <td>f</td>\n",
              "      <td>f</td>\n",
              "      <td>f</td>\n",
              "      <td>f</td>\n",
              "      <td>f</td>\n",
              "      <td>f</td>\n",
              "      <td>y</td>\n",
              "      <td>30</td>\n",
              "      <td>y</td>\n",
              "      <td>0.60</td>\n",
              "      <td>y</td>\n",
              "      <td>15</td>\n",
              "      <td>y</td>\n",
              "      <td>1.48</td>\n",
              "      <td>y</td>\n",
              "      <td>10</td>\n",
              "      <td>n</td>\n",
              "      <td>?</td>\n",
              "    </tr>\n",
              "    <tr>\n",
              "      <th>1</th>\n",
              "      <td>hypothyroid</td>\n",
              "      <td>15</td>\n",
              "      <td>F</td>\n",
              "      <td>t</td>\n",
              "      <td>f</td>\n",
              "      <td>f</td>\n",
              "      <td>f</td>\n",
              "      <td>f</td>\n",
              "      <td>f</td>\n",
              "      <td>f</td>\n",
              "      <td>f</td>\n",
              "      <td>f</td>\n",
              "      <td>f</td>\n",
              "      <td>f</td>\n",
              "      <td>y</td>\n",
              "      <td>145</td>\n",
              "      <td>y</td>\n",
              "      <td>1.70</td>\n",
              "      <td>y</td>\n",
              "      <td>19</td>\n",
              "      <td>y</td>\n",
              "      <td>1.13</td>\n",
              "      <td>y</td>\n",
              "      <td>17</td>\n",
              "      <td>n</td>\n",
              "      <td>?</td>\n",
              "    </tr>\n",
              "    <tr>\n",
              "      <th>2</th>\n",
              "      <td>hypothyroid</td>\n",
              "      <td>24</td>\n",
              "      <td>M</td>\n",
              "      <td>f</td>\n",
              "      <td>f</td>\n",
              "      <td>f</td>\n",
              "      <td>f</td>\n",
              "      <td>f</td>\n",
              "      <td>f</td>\n",
              "      <td>f</td>\n",
              "      <td>f</td>\n",
              "      <td>f</td>\n",
              "      <td>f</td>\n",
              "      <td>f</td>\n",
              "      <td>y</td>\n",
              "      <td>0</td>\n",
              "      <td>y</td>\n",
              "      <td>0.20</td>\n",
              "      <td>y</td>\n",
              "      <td>4</td>\n",
              "      <td>y</td>\n",
              "      <td>1</td>\n",
              "      <td>y</td>\n",
              "      <td>0</td>\n",
              "      <td>n</td>\n",
              "      <td>?</td>\n",
              "    </tr>\n",
              "    <tr>\n",
              "      <th>3</th>\n",
              "      <td>hypothyroid</td>\n",
              "      <td>24</td>\n",
              "      <td>F</td>\n",
              "      <td>f</td>\n",
              "      <td>f</td>\n",
              "      <td>f</td>\n",
              "      <td>f</td>\n",
              "      <td>f</td>\n",
              "      <td>f</td>\n",
              "      <td>f</td>\n",
              "      <td>f</td>\n",
              "      <td>f</td>\n",
              "      <td>f</td>\n",
              "      <td>f</td>\n",
              "      <td>y</td>\n",
              "      <td>430</td>\n",
              "      <td>y</td>\n",
              "      <td>0.40</td>\n",
              "      <td>y</td>\n",
              "      <td>6</td>\n",
              "      <td>y</td>\n",
              "      <td>1.04</td>\n",
              "      <td>y</td>\n",
              "      <td>6</td>\n",
              "      <td>n</td>\n",
              "      <td>?</td>\n",
              "    </tr>\n",
              "    <tr>\n",
              "      <th>4</th>\n",
              "      <td>hypothyroid</td>\n",
              "      <td>77</td>\n",
              "      <td>M</td>\n",
              "      <td>f</td>\n",
              "      <td>f</td>\n",
              "      <td>f</td>\n",
              "      <td>f</td>\n",
              "      <td>f</td>\n",
              "      <td>f</td>\n",
              "      <td>f</td>\n",
              "      <td>f</td>\n",
              "      <td>f</td>\n",
              "      <td>f</td>\n",
              "      <td>f</td>\n",
              "      <td>y</td>\n",
              "      <td>7.30</td>\n",
              "      <td>y</td>\n",
              "      <td>1.20</td>\n",
              "      <td>y</td>\n",
              "      <td>57</td>\n",
              "      <td>y</td>\n",
              "      <td>1.28</td>\n",
              "      <td>y</td>\n",
              "      <td>44</td>\n",
              "      <td>n</td>\n",
              "      <td>?</td>\n",
              "    </tr>\n",
              "  </tbody>\n",
              "</table>\n",
              "</div>"
            ],
            "text/plain": [
              "        status age sex on_thyroxine  ... FTI_measured FTI TBG_measured TBG\n",
              "0  hypothyroid  72   M            f  ...            y  10            n   ?\n",
              "1  hypothyroid  15   F            t  ...            y  17            n   ?\n",
              "2  hypothyroid  24   M            f  ...            y   0            n   ?\n",
              "3  hypothyroid  24   F            f  ...            y   6            n   ?\n",
              "4  hypothyroid  77   M            f  ...            y  44            n   ?\n",
              "\n",
              "[5 rows x 26 columns]"
            ]
          },
          "metadata": {
            "tags": []
          },
          "execution_count": 2
        }
      ]
    },
    {
      "cell_type": "code",
      "metadata": {
        "id": "NxSL-1CRI6oV",
        "colab_type": "code",
        "outputId": "3737330c-9826-4d9c-a71d-14d7b3474b06",
        "colab": {
          "base_uri": "https://localhost:8080/",
          "height": 217
        }
      },
      "source": [
        "#previewing the last 5 records in the dataset\n",
        "hyp.tail()"
      ],
      "execution_count": 3,
      "outputs": [
        {
          "output_type": "execute_result",
          "data": {
            "text/html": [
              "<div>\n",
              "<style scoped>\n",
              "    .dataframe tbody tr th:only-of-type {\n",
              "        vertical-align: middle;\n",
              "    }\n",
              "\n",
              "    .dataframe tbody tr th {\n",
              "        vertical-align: top;\n",
              "    }\n",
              "\n",
              "    .dataframe thead th {\n",
              "        text-align: right;\n",
              "    }\n",
              "</style>\n",
              "<table border=\"1\" class=\"dataframe\">\n",
              "  <thead>\n",
              "    <tr style=\"text-align: right;\">\n",
              "      <th></th>\n",
              "      <th>status</th>\n",
              "      <th>age</th>\n",
              "      <th>sex</th>\n",
              "      <th>on_thyroxine</th>\n",
              "      <th>query_on_thyroxine</th>\n",
              "      <th>on_antithyroid_medication</th>\n",
              "      <th>thyroid_surgery</th>\n",
              "      <th>query_hypothyroid</th>\n",
              "      <th>query_hyperthyroid</th>\n",
              "      <th>pregnant</th>\n",
              "      <th>sick</th>\n",
              "      <th>tumor</th>\n",
              "      <th>lithium</th>\n",
              "      <th>goitre</th>\n",
              "      <th>TSH_measured</th>\n",
              "      <th>TSH</th>\n",
              "      <th>T3_measured</th>\n",
              "      <th>T3</th>\n",
              "      <th>TT4_measured</th>\n",
              "      <th>TT4</th>\n",
              "      <th>T4U_measured</th>\n",
              "      <th>T4U</th>\n",
              "      <th>FTI_measured</th>\n",
              "      <th>FTI</th>\n",
              "      <th>TBG_measured</th>\n",
              "      <th>TBG</th>\n",
              "    </tr>\n",
              "  </thead>\n",
              "  <tbody>\n",
              "    <tr>\n",
              "      <th>3158</th>\n",
              "      <td>negative</td>\n",
              "      <td>58</td>\n",
              "      <td>F</td>\n",
              "      <td>f</td>\n",
              "      <td>f</td>\n",
              "      <td>f</td>\n",
              "      <td>f</td>\n",
              "      <td>f</td>\n",
              "      <td>f</td>\n",
              "      <td>f</td>\n",
              "      <td>f</td>\n",
              "      <td>f</td>\n",
              "      <td>f</td>\n",
              "      <td>f</td>\n",
              "      <td>y</td>\n",
              "      <td>5.80</td>\n",
              "      <td>y</td>\n",
              "      <td>1.70</td>\n",
              "      <td>y</td>\n",
              "      <td>86</td>\n",
              "      <td>y</td>\n",
              "      <td>0.91</td>\n",
              "      <td>y</td>\n",
              "      <td>95</td>\n",
              "      <td>n</td>\n",
              "      <td>?</td>\n",
              "    </tr>\n",
              "    <tr>\n",
              "      <th>3159</th>\n",
              "      <td>negative</td>\n",
              "      <td>29</td>\n",
              "      <td>F</td>\n",
              "      <td>f</td>\n",
              "      <td>f</td>\n",
              "      <td>f</td>\n",
              "      <td>f</td>\n",
              "      <td>f</td>\n",
              "      <td>f</td>\n",
              "      <td>f</td>\n",
              "      <td>f</td>\n",
              "      <td>f</td>\n",
              "      <td>f</td>\n",
              "      <td>f</td>\n",
              "      <td>y</td>\n",
              "      <td>0.80</td>\n",
              "      <td>y</td>\n",
              "      <td>1.80</td>\n",
              "      <td>y</td>\n",
              "      <td>99</td>\n",
              "      <td>y</td>\n",
              "      <td>1.01</td>\n",
              "      <td>y</td>\n",
              "      <td>98</td>\n",
              "      <td>n</td>\n",
              "      <td>?</td>\n",
              "    </tr>\n",
              "    <tr>\n",
              "      <th>3160</th>\n",
              "      <td>negative</td>\n",
              "      <td>77</td>\n",
              "      <td>M</td>\n",
              "      <td>f</td>\n",
              "      <td>f</td>\n",
              "      <td>f</td>\n",
              "      <td>f</td>\n",
              "      <td>f</td>\n",
              "      <td>f</td>\n",
              "      <td>f</td>\n",
              "      <td>f</td>\n",
              "      <td>f</td>\n",
              "      <td>f</td>\n",
              "      <td>f</td>\n",
              "      <td>y</td>\n",
              "      <td>1.20</td>\n",
              "      <td>y</td>\n",
              "      <td>0.60</td>\n",
              "      <td>y</td>\n",
              "      <td>71</td>\n",
              "      <td>y</td>\n",
              "      <td>0.68</td>\n",
              "      <td>y</td>\n",
              "      <td>104</td>\n",
              "      <td>n</td>\n",
              "      <td>?</td>\n",
              "    </tr>\n",
              "    <tr>\n",
              "      <th>3161</th>\n",
              "      <td>negative</td>\n",
              "      <td>74</td>\n",
              "      <td>F</td>\n",
              "      <td>f</td>\n",
              "      <td>f</td>\n",
              "      <td>f</td>\n",
              "      <td>f</td>\n",
              "      <td>f</td>\n",
              "      <td>f</td>\n",
              "      <td>f</td>\n",
              "      <td>f</td>\n",
              "      <td>f</td>\n",
              "      <td>f</td>\n",
              "      <td>f</td>\n",
              "      <td>y</td>\n",
              "      <td>1.30</td>\n",
              "      <td>y</td>\n",
              "      <td>0.10</td>\n",
              "      <td>y</td>\n",
              "      <td>65</td>\n",
              "      <td>y</td>\n",
              "      <td>0.48</td>\n",
              "      <td>y</td>\n",
              "      <td>137</td>\n",
              "      <td>n</td>\n",
              "      <td>?</td>\n",
              "    </tr>\n",
              "    <tr>\n",
              "      <th>3162</th>\n",
              "      <td>negative</td>\n",
              "      <td>56</td>\n",
              "      <td>F</td>\n",
              "      <td>t</td>\n",
              "      <td>f</td>\n",
              "      <td>f</td>\n",
              "      <td>f</td>\n",
              "      <td>f</td>\n",
              "      <td>f</td>\n",
              "      <td>f</td>\n",
              "      <td>f</td>\n",
              "      <td>f</td>\n",
              "      <td>f</td>\n",
              "      <td>f</td>\n",
              "      <td>y</td>\n",
              "      <td>0</td>\n",
              "      <td>y</td>\n",
              "      <td>1.80</td>\n",
              "      <td>y</td>\n",
              "      <td>139</td>\n",
              "      <td>y</td>\n",
              "      <td>0.97</td>\n",
              "      <td>y</td>\n",
              "      <td>143</td>\n",
              "      <td>n</td>\n",
              "      <td>?</td>\n",
              "    </tr>\n",
              "  </tbody>\n",
              "</table>\n",
              "</div>"
            ],
            "text/plain": [
              "        status age sex on_thyroxine  ... FTI_measured  FTI TBG_measured TBG\n",
              "3158  negative  58   F            f  ...            y   95            n   ?\n",
              "3159  negative  29   F            f  ...            y   98            n   ?\n",
              "3160  negative  77   M            f  ...            y  104            n   ?\n",
              "3161  negative  74   F            f  ...            y  137            n   ?\n",
              "3162  negative  56   F            t  ...            y  143            n   ?\n",
              "\n",
              "[5 rows x 26 columns]"
            ]
          },
          "metadata": {
            "tags": []
          },
          "execution_count": 3
        }
      ]
    },
    {
      "cell_type": "markdown",
      "metadata": {
        "id": "9KTTGvp_JEgh",
        "colab_type": "text"
      },
      "source": [
        "From the observations above, it seems some observations are marked with a ?. I shall look at the number of missing values and the count of the ? in the dataset"
      ]
    },
    {
      "cell_type": "code",
      "metadata": {
        "id": "QjRsNyQJKjBm",
        "colab_type": "code",
        "outputId": "a960c93b-0132-4b01-b85d-fd2fb6225426",
        "colab": {
          "base_uri": "https://localhost:8080/",
          "height": 34
        }
      },
      "source": [
        "#checking the dataset shape\n",
        "hyp.shape\n",
        "\n",
        "#the dataset that 3163 rows and 26 columns"
      ],
      "execution_count": 4,
      "outputs": [
        {
          "output_type": "execute_result",
          "data": {
            "text/plain": [
              "(3163, 26)"
            ]
          },
          "metadata": {
            "tags": []
          },
          "execution_count": 4
        }
      ]
    },
    {
      "cell_type": "code",
      "metadata": {
        "id": "Oak2ikt7IPSU",
        "colab_type": "code",
        "outputId": "3dec774f-e9bf-4600-c8e3-4c88e25a66f1",
        "colab": {
          "base_uri": "https://localhost:8080/",
          "height": 567
        }
      },
      "source": [
        "#checking the basic information of the dataset\n",
        "hyp.info()"
      ],
      "execution_count": 5,
      "outputs": [
        {
          "output_type": "stream",
          "text": [
            "<class 'pandas.core.frame.DataFrame'>\n",
            "RangeIndex: 3163 entries, 0 to 3162\n",
            "Data columns (total 26 columns):\n",
            "status                       3163 non-null object\n",
            "age                          3163 non-null object\n",
            "sex                          3163 non-null object\n",
            "on_thyroxine                 3163 non-null object\n",
            "query_on_thyroxine           3163 non-null object\n",
            "on_antithyroid_medication    3163 non-null object\n",
            "thyroid_surgery              3163 non-null object\n",
            "query_hypothyroid            3163 non-null object\n",
            "query_hyperthyroid           3163 non-null object\n",
            "pregnant                     3163 non-null object\n",
            "sick                         3163 non-null object\n",
            "tumor                        3163 non-null object\n",
            "lithium                      3163 non-null object\n",
            "goitre                       3163 non-null object\n",
            "TSH_measured                 3163 non-null object\n",
            "TSH                          3163 non-null object\n",
            "T3_measured                  3163 non-null object\n",
            "T3                           3163 non-null object\n",
            "TT4_measured                 3163 non-null object\n",
            "TT4                          3163 non-null object\n",
            "T4U_measured                 3163 non-null object\n",
            "T4U                          3163 non-null object\n",
            "FTI_measured                 3163 non-null object\n",
            "FTI                          3163 non-null object\n",
            "TBG_measured                 3163 non-null object\n",
            "TBG                          3163 non-null object\n",
            "dtypes: object(26)\n",
            "memory usage: 642.6+ KB\n"
          ],
          "name": "stdout"
        }
      ]
    },
    {
      "cell_type": "code",
      "metadata": {
        "id": "ylZYw6fxJYNl",
        "colab_type": "code",
        "outputId": "9ffb78c2-ab4d-463e-fe64-c0cd4f1ee5ca",
        "colab": {
          "base_uri": "https://localhost:8080/",
          "height": 496
        }
      },
      "source": [
        "#checking for missing values\n",
        "hyp.isnull().sum()"
      ],
      "execution_count": 6,
      "outputs": [
        {
          "output_type": "execute_result",
          "data": {
            "text/plain": [
              "status                       0\n",
              "age                          0\n",
              "sex                          0\n",
              "on_thyroxine                 0\n",
              "query_on_thyroxine           0\n",
              "on_antithyroid_medication    0\n",
              "thyroid_surgery              0\n",
              "query_hypothyroid            0\n",
              "query_hyperthyroid           0\n",
              "pregnant                     0\n",
              "sick                         0\n",
              "tumor                        0\n",
              "lithium                      0\n",
              "goitre                       0\n",
              "TSH_measured                 0\n",
              "TSH                          0\n",
              "T3_measured                  0\n",
              "T3                           0\n",
              "TT4_measured                 0\n",
              "TT4                          0\n",
              "T4U_measured                 0\n",
              "T4U                          0\n",
              "FTI_measured                 0\n",
              "FTI                          0\n",
              "TBG_measured                 0\n",
              "TBG                          0\n",
              "dtype: int64"
            ]
          },
          "metadata": {
            "tags": []
          },
          "execution_count": 6
        }
      ]
    },
    {
      "cell_type": "markdown",
      "metadata": {
        "id": "a6oQeBfiJgcv",
        "colab_type": "text"
      },
      "source": [
        "## Data Cleaning\n",
        "> There are number missing values in the data. Now looking at the count of the ? in the dataset"
      ]
    },
    {
      "cell_type": "code",
      "metadata": {
        "id": "h4Cn28qeJfou",
        "colab_type": "code",
        "outputId": "09aaa6e3-80d2-4f2d-ef99-ee545151d6c2",
        "colab": {
          "base_uri": "https://localhost:8080/",
          "height": 478
        }
      },
      "source": [
        "#checking the number of times ? appears in each column\n",
        "(hyp.iloc[:,1:26] == '?').sum()"
      ],
      "execution_count": 7,
      "outputs": [
        {
          "output_type": "execute_result",
          "data": {
            "text/plain": [
              "age                           446\n",
              "sex                            73\n",
              "on_thyroxine                    0\n",
              "query_on_thyroxine              0\n",
              "on_antithyroid_medication       0\n",
              "thyroid_surgery                 0\n",
              "query_hypothyroid               0\n",
              "query_hyperthyroid              0\n",
              "pregnant                        0\n",
              "sick                            0\n",
              "tumor                           0\n",
              "lithium                         0\n",
              "goitre                          0\n",
              "TSH_measured                    0\n",
              "TSH                           468\n",
              "T3_measured                     0\n",
              "T3                            695\n",
              "TT4_measured                    0\n",
              "TT4                           249\n",
              "T4U_measured                    0\n",
              "T4U                           248\n",
              "FTI_measured                    0\n",
              "FTI                           247\n",
              "TBG_measured                    0\n",
              "TBG                          2903\n",
              "dtype: int64"
            ]
          },
          "metadata": {
            "tags": []
          },
          "execution_count": 7
        }
      ]
    },
    {
      "cell_type": "markdown",
      "metadata": {
        "id": "bS8t_2O8KKTA",
        "colab_type": "text"
      },
      "source": [
        "Looking at the observations, the column sex has the least number of questionmarks, 73 i.e 2% of the whole dataset.\n",
        "The TT4, T4U, and FTI all occupy 8% of the dataset. 3163\n",
        "TSH - 14%\n",
        "T3 - 21% \n",
        "TBG is the column with the largest number of ?. They occupy 91% of the dataset. I shall now replace with the ? with Nan and see how they compare."
      ]
    },
    {
      "cell_type": "code",
      "metadata": {
        "colab_type": "code",
        "id": "RNnM7C8wlTSr",
        "colab": {}
      },
      "source": [
        "#replacing all the ? with the nan value\n",
        "for i in range(1,26):\n",
        "  hyp.iloc[:, i].replace('?', np.nan, inplace=True)"
      ],
      "execution_count": 0,
      "outputs": []
    },
    {
      "cell_type": "code",
      "metadata": {
        "id": "onanG2D4PKOD",
        "colab_type": "code",
        "outputId": "89d343c9-7763-43cf-8701-35c03f5bcd93",
        "colab": {
          "base_uri": "https://localhost:8080/",
          "height": 496
        }
      },
      "source": [
        "hyp.isnull().sum()\n",
        "#all questionmarks have now been replaced with the nan value. A preview is shown in the next cell"
      ],
      "execution_count": 9,
      "outputs": [
        {
          "output_type": "execute_result",
          "data": {
            "text/plain": [
              "status                          0\n",
              "age                           446\n",
              "sex                            73\n",
              "on_thyroxine                    0\n",
              "query_on_thyroxine              0\n",
              "on_antithyroid_medication       0\n",
              "thyroid_surgery                 0\n",
              "query_hypothyroid               0\n",
              "query_hyperthyroid              0\n",
              "pregnant                        0\n",
              "sick                            0\n",
              "tumor                           0\n",
              "lithium                         0\n",
              "goitre                          0\n",
              "TSH_measured                    0\n",
              "TSH                           468\n",
              "T3_measured                     0\n",
              "T3                            695\n",
              "TT4_measured                    0\n",
              "TT4                           249\n",
              "T4U_measured                    0\n",
              "T4U                           248\n",
              "FTI_measured                    0\n",
              "FTI                           247\n",
              "TBG_measured                    0\n",
              "TBG                          2903\n",
              "dtype: int64"
            ]
          },
          "metadata": {
            "tags": []
          },
          "execution_count": 9
        }
      ]
    },
    {
      "cell_type": "code",
      "metadata": {
        "id": "qYxI-n9EPFG-",
        "colab_type": "code",
        "outputId": "88be3e17-8a8f-4d13-f98f-adee8b50fdfd",
        "colab": {
          "base_uri": "https://localhost:8080/",
          "height": 478
        }
      },
      "source": [
        "(hyp.iloc[:,1:26] == '?').sum()\n",
        "\n",
        "#all questionmarks are now replaced"
      ],
      "execution_count": 10,
      "outputs": [
        {
          "output_type": "execute_result",
          "data": {
            "text/plain": [
              "age                          0\n",
              "sex                          0\n",
              "on_thyroxine                 0\n",
              "query_on_thyroxine           0\n",
              "on_antithyroid_medication    0\n",
              "thyroid_surgery              0\n",
              "query_hypothyroid            0\n",
              "query_hyperthyroid           0\n",
              "pregnant                     0\n",
              "sick                         0\n",
              "tumor                        0\n",
              "lithium                      0\n",
              "goitre                       0\n",
              "TSH_measured                 0\n",
              "TSH                          0\n",
              "T3_measured                  0\n",
              "T3                           0\n",
              "TT4_measured                 0\n",
              "TT4                          0\n",
              "T4U_measured                 0\n",
              "T4U                          0\n",
              "FTI_measured                 0\n",
              "FTI                          0\n",
              "TBG_measured                 0\n",
              "TBG                          0\n",
              "dtype: int64"
            ]
          },
          "metadata": {
            "tags": []
          },
          "execution_count": 10
        }
      ]
    },
    {
      "cell_type": "code",
      "metadata": {
        "id": "wjOr7n83HAvi",
        "colab_type": "code",
        "colab": {}
      },
      "source": [
        "#the sex column has 2% of missing values in the whole dataset. This is a relative small number. I opt to delete all the nan values in the sex column\n",
        "hyp.dropna(subset=['sex'], inplace = True)"
      ],
      "execution_count": 0,
      "outputs": []
    },
    {
      "cell_type": "code",
      "metadata": {
        "id": "QO-mI26xR9LS",
        "colab_type": "code",
        "colab": {
          "base_uri": "https://localhost:8080/",
          "height": 34
        },
        "outputId": "a1517946-b259-42e0-9d95-871acd11b159"
      },
      "source": [
        "hyp.shape"
      ],
      "execution_count": 36,
      "outputs": [
        {
          "output_type": "execute_result",
          "data": {
            "text/plain": [
              "(3090, 26)"
            ]
          },
          "metadata": {
            "tags": []
          },
          "execution_count": 36
        }
      ]
    },
    {
      "cell_type": "code",
      "metadata": {
        "id": "J6fJqisuRWdb",
        "colab_type": "code",
        "colab": {}
      },
      "source": [
        "#the TBG column has a relative high number of missing values, 91%. The corresponding column, TBG measured indicates a yes or no whether the test was conducted or not. \n",
        "#Most of the nan values exist where the measured is a no. My assumption will be the test was not carried out and I shall fill all the nan values with a 0.\n",
        "hyp['TBG'] = hyp['TBG'].fillna(0)"
      ],
      "execution_count": 0,
      "outputs": []
    },
    {
      "cell_type": "code",
      "metadata": {
        "id": "LaksBVpNPFDl",
        "colab_type": "code",
        "outputId": "920b4810-fe19-4490-fa99-8f3e25b18917",
        "colab": {
          "base_uri": "https://localhost:8080/",
          "height": 367
        }
      },
      "source": [
        "#previewing the first 10 observations and checking the changes\n",
        "hyp.head(10)"
      ],
      "execution_count": 38,
      "outputs": [
        {
          "output_type": "execute_result",
          "data": {
            "text/html": [
              "<div>\n",
              "<style scoped>\n",
              "    .dataframe tbody tr th:only-of-type {\n",
              "        vertical-align: middle;\n",
              "    }\n",
              "\n",
              "    .dataframe tbody tr th {\n",
              "        vertical-align: top;\n",
              "    }\n",
              "\n",
              "    .dataframe thead th {\n",
              "        text-align: right;\n",
              "    }\n",
              "</style>\n",
              "<table border=\"1\" class=\"dataframe\">\n",
              "  <thead>\n",
              "    <tr style=\"text-align: right;\">\n",
              "      <th></th>\n",
              "      <th>status</th>\n",
              "      <th>age</th>\n",
              "      <th>sex</th>\n",
              "      <th>on_thyroxine</th>\n",
              "      <th>query_on_thyroxine</th>\n",
              "      <th>on_antithyroid_medication</th>\n",
              "      <th>thyroid_surgery</th>\n",
              "      <th>query_hypothyroid</th>\n",
              "      <th>query_hyperthyroid</th>\n",
              "      <th>pregnant</th>\n",
              "      <th>sick</th>\n",
              "      <th>tumor</th>\n",
              "      <th>lithium</th>\n",
              "      <th>goitre</th>\n",
              "      <th>TSH_measured</th>\n",
              "      <th>TSH</th>\n",
              "      <th>T3_measured</th>\n",
              "      <th>T3</th>\n",
              "      <th>TT4_measured</th>\n",
              "      <th>TT4</th>\n",
              "      <th>T4U_measured</th>\n",
              "      <th>T4U</th>\n",
              "      <th>FTI_measured</th>\n",
              "      <th>FTI</th>\n",
              "      <th>TBG_measured</th>\n",
              "      <th>TBG</th>\n",
              "    </tr>\n",
              "  </thead>\n",
              "  <tbody>\n",
              "    <tr>\n",
              "      <th>0</th>\n",
              "      <td>hypothyroid</td>\n",
              "      <td>72</td>\n",
              "      <td>M</td>\n",
              "      <td>f</td>\n",
              "      <td>f</td>\n",
              "      <td>f</td>\n",
              "      <td>f</td>\n",
              "      <td>f</td>\n",
              "      <td>f</td>\n",
              "      <td>f</td>\n",
              "      <td>f</td>\n",
              "      <td>f</td>\n",
              "      <td>f</td>\n",
              "      <td>f</td>\n",
              "      <td>y</td>\n",
              "      <td>30</td>\n",
              "      <td>y</td>\n",
              "      <td>0.60</td>\n",
              "      <td>y</td>\n",
              "      <td>15</td>\n",
              "      <td>y</td>\n",
              "      <td>1.48</td>\n",
              "      <td>y</td>\n",
              "      <td>10</td>\n",
              "      <td>n</td>\n",
              "      <td>0</td>\n",
              "    </tr>\n",
              "    <tr>\n",
              "      <th>1</th>\n",
              "      <td>hypothyroid</td>\n",
              "      <td>15</td>\n",
              "      <td>F</td>\n",
              "      <td>t</td>\n",
              "      <td>f</td>\n",
              "      <td>f</td>\n",
              "      <td>f</td>\n",
              "      <td>f</td>\n",
              "      <td>f</td>\n",
              "      <td>f</td>\n",
              "      <td>f</td>\n",
              "      <td>f</td>\n",
              "      <td>f</td>\n",
              "      <td>f</td>\n",
              "      <td>y</td>\n",
              "      <td>145</td>\n",
              "      <td>y</td>\n",
              "      <td>1.70</td>\n",
              "      <td>y</td>\n",
              "      <td>19</td>\n",
              "      <td>y</td>\n",
              "      <td>1.13</td>\n",
              "      <td>y</td>\n",
              "      <td>17</td>\n",
              "      <td>n</td>\n",
              "      <td>0</td>\n",
              "    </tr>\n",
              "    <tr>\n",
              "      <th>2</th>\n",
              "      <td>hypothyroid</td>\n",
              "      <td>24</td>\n",
              "      <td>M</td>\n",
              "      <td>f</td>\n",
              "      <td>f</td>\n",
              "      <td>f</td>\n",
              "      <td>f</td>\n",
              "      <td>f</td>\n",
              "      <td>f</td>\n",
              "      <td>f</td>\n",
              "      <td>f</td>\n",
              "      <td>f</td>\n",
              "      <td>f</td>\n",
              "      <td>f</td>\n",
              "      <td>y</td>\n",
              "      <td>0</td>\n",
              "      <td>y</td>\n",
              "      <td>0.20</td>\n",
              "      <td>y</td>\n",
              "      <td>4</td>\n",
              "      <td>y</td>\n",
              "      <td>1</td>\n",
              "      <td>y</td>\n",
              "      <td>0</td>\n",
              "      <td>n</td>\n",
              "      <td>0</td>\n",
              "    </tr>\n",
              "    <tr>\n",
              "      <th>3</th>\n",
              "      <td>hypothyroid</td>\n",
              "      <td>24</td>\n",
              "      <td>F</td>\n",
              "      <td>f</td>\n",
              "      <td>f</td>\n",
              "      <td>f</td>\n",
              "      <td>f</td>\n",
              "      <td>f</td>\n",
              "      <td>f</td>\n",
              "      <td>f</td>\n",
              "      <td>f</td>\n",
              "      <td>f</td>\n",
              "      <td>f</td>\n",
              "      <td>f</td>\n",
              "      <td>y</td>\n",
              "      <td>430</td>\n",
              "      <td>y</td>\n",
              "      <td>0.40</td>\n",
              "      <td>y</td>\n",
              "      <td>6</td>\n",
              "      <td>y</td>\n",
              "      <td>1.04</td>\n",
              "      <td>y</td>\n",
              "      <td>6</td>\n",
              "      <td>n</td>\n",
              "      <td>0</td>\n",
              "    </tr>\n",
              "    <tr>\n",
              "      <th>4</th>\n",
              "      <td>hypothyroid</td>\n",
              "      <td>77</td>\n",
              "      <td>M</td>\n",
              "      <td>f</td>\n",
              "      <td>f</td>\n",
              "      <td>f</td>\n",
              "      <td>f</td>\n",
              "      <td>f</td>\n",
              "      <td>f</td>\n",
              "      <td>f</td>\n",
              "      <td>f</td>\n",
              "      <td>f</td>\n",
              "      <td>f</td>\n",
              "      <td>f</td>\n",
              "      <td>y</td>\n",
              "      <td>7.30</td>\n",
              "      <td>y</td>\n",
              "      <td>1.20</td>\n",
              "      <td>y</td>\n",
              "      <td>57</td>\n",
              "      <td>y</td>\n",
              "      <td>1.28</td>\n",
              "      <td>y</td>\n",
              "      <td>44</td>\n",
              "      <td>n</td>\n",
              "      <td>0</td>\n",
              "    </tr>\n",
              "    <tr>\n",
              "      <th>5</th>\n",
              "      <td>hypothyroid</td>\n",
              "      <td>85</td>\n",
              "      <td>F</td>\n",
              "      <td>f</td>\n",
              "      <td>f</td>\n",
              "      <td>f</td>\n",
              "      <td>f</td>\n",
              "      <td>t</td>\n",
              "      <td>f</td>\n",
              "      <td>f</td>\n",
              "      <td>f</td>\n",
              "      <td>f</td>\n",
              "      <td>f</td>\n",
              "      <td>f</td>\n",
              "      <td>y</td>\n",
              "      <td>138</td>\n",
              "      <td>y</td>\n",
              "      <td>1.10</td>\n",
              "      <td>y</td>\n",
              "      <td>27</td>\n",
              "      <td>y</td>\n",
              "      <td>1.19</td>\n",
              "      <td>y</td>\n",
              "      <td>23</td>\n",
              "      <td>n</td>\n",
              "      <td>0</td>\n",
              "    </tr>\n",
              "    <tr>\n",
              "      <th>6</th>\n",
              "      <td>hypothyroid</td>\n",
              "      <td>64</td>\n",
              "      <td>F</td>\n",
              "      <td>f</td>\n",
              "      <td>f</td>\n",
              "      <td>f</td>\n",
              "      <td>t</td>\n",
              "      <td>f</td>\n",
              "      <td>f</td>\n",
              "      <td>f</td>\n",
              "      <td>f</td>\n",
              "      <td>f</td>\n",
              "      <td>f</td>\n",
              "      <td>f</td>\n",
              "      <td>y</td>\n",
              "      <td>7.70</td>\n",
              "      <td>y</td>\n",
              "      <td>1.30</td>\n",
              "      <td>y</td>\n",
              "      <td>54</td>\n",
              "      <td>y</td>\n",
              "      <td>0.86</td>\n",
              "      <td>y</td>\n",
              "      <td>63</td>\n",
              "      <td>n</td>\n",
              "      <td>0</td>\n",
              "    </tr>\n",
              "    <tr>\n",
              "      <th>7</th>\n",
              "      <td>hypothyroid</td>\n",
              "      <td>72</td>\n",
              "      <td>F</td>\n",
              "      <td>f</td>\n",
              "      <td>f</td>\n",
              "      <td>f</td>\n",
              "      <td>f</td>\n",
              "      <td>f</td>\n",
              "      <td>f</td>\n",
              "      <td>f</td>\n",
              "      <td>f</td>\n",
              "      <td>f</td>\n",
              "      <td>f</td>\n",
              "      <td>f</td>\n",
              "      <td>y</td>\n",
              "      <td>21</td>\n",
              "      <td>y</td>\n",
              "      <td>1.90</td>\n",
              "      <td>y</td>\n",
              "      <td>34</td>\n",
              "      <td>y</td>\n",
              "      <td>1.05</td>\n",
              "      <td>y</td>\n",
              "      <td>32</td>\n",
              "      <td>n</td>\n",
              "      <td>0</td>\n",
              "    </tr>\n",
              "    <tr>\n",
              "      <th>8</th>\n",
              "      <td>hypothyroid</td>\n",
              "      <td>20</td>\n",
              "      <td>F</td>\n",
              "      <td>f</td>\n",
              "      <td>f</td>\n",
              "      <td>f</td>\n",
              "      <td>f</td>\n",
              "      <td>t</td>\n",
              "      <td>f</td>\n",
              "      <td>f</td>\n",
              "      <td>f</td>\n",
              "      <td>f</td>\n",
              "      <td>f</td>\n",
              "      <td>f</td>\n",
              "      <td>y</td>\n",
              "      <td>92</td>\n",
              "      <td>n</td>\n",
              "      <td>NaN</td>\n",
              "      <td>y</td>\n",
              "      <td>39</td>\n",
              "      <td>y</td>\n",
              "      <td>1.21</td>\n",
              "      <td>y</td>\n",
              "      <td>32</td>\n",
              "      <td>n</td>\n",
              "      <td>0</td>\n",
              "    </tr>\n",
              "    <tr>\n",
              "      <th>9</th>\n",
              "      <td>hypothyroid</td>\n",
              "      <td>42</td>\n",
              "      <td>F</td>\n",
              "      <td>f</td>\n",
              "      <td>f</td>\n",
              "      <td>f</td>\n",
              "      <td>f</td>\n",
              "      <td>f</td>\n",
              "      <td>f</td>\n",
              "      <td>f</td>\n",
              "      <td>f</td>\n",
              "      <td>f</td>\n",
              "      <td>f</td>\n",
              "      <td>f</td>\n",
              "      <td>y</td>\n",
              "      <td>48</td>\n",
              "      <td>n</td>\n",
              "      <td>NaN</td>\n",
              "      <td>y</td>\n",
              "      <td>7.60</td>\n",
              "      <td>y</td>\n",
              "      <td>1.02</td>\n",
              "      <td>y</td>\n",
              "      <td>7.50</td>\n",
              "      <td>n</td>\n",
              "      <td>0</td>\n",
              "    </tr>\n",
              "  </tbody>\n",
              "</table>\n",
              "</div>"
            ],
            "text/plain": [
              "        status age sex on_thyroxine  ... FTI_measured   FTI TBG_measured TBG\n",
              "0  hypothyroid  72   M            f  ...            y    10            n   0\n",
              "1  hypothyroid  15   F            t  ...            y    17            n   0\n",
              "2  hypothyroid  24   M            f  ...            y     0            n   0\n",
              "3  hypothyroid  24   F            f  ...            y     6            n   0\n",
              "4  hypothyroid  77   M            f  ...            y    44            n   0\n",
              "5  hypothyroid  85   F            f  ...            y    23            n   0\n",
              "6  hypothyroid  64   F            f  ...            y    63            n   0\n",
              "7  hypothyroid  72   F            f  ...            y    32            n   0\n",
              "8  hypothyroid  20   F            f  ...            y    32            n   0\n",
              "9  hypothyroid  42   F            f  ...            y  7.50            n   0\n",
              "\n",
              "[10 rows x 26 columns]"
            ]
          },
          "metadata": {
            "tags": []
          },
          "execution_count": 38
        }
      ]
    },
    {
      "cell_type": "code",
      "metadata": {
        "id": "1PrxCrglSI8v",
        "colab_type": "code",
        "outputId": "c23cff8c-b5df-4fdf-972b-4e8715e28d55",
        "colab": {
          "base_uri": "https://localhost:8080/",
          "height": 1000
        }
      },
      "source": [
        "#previewing the unique values in every column\n",
        "for i in hyp.columns:\n",
        "  #to print a line in between the columns\n",
        "\n",
        "  print('\\n')\n",
        "  print('column name:', i)\n",
        "  print(hyp[i].unique())"
      ],
      "execution_count": 13,
      "outputs": [
        {
          "output_type": "stream",
          "text": [
            "\n",
            "\n",
            "column name: status\n",
            "['hypothyroid' 'negative']\n",
            "\n",
            "\n",
            "column name: age\n",
            "['72' '15' '24' '77' '85' '64' '20' '42' '69' '75' '53' '59' '68' '50'\n",
            " '78' '65' '28' '43' '40' '84' nan '83' '63' '73' '36' '27' '48' '71' '60'\n",
            " '34' '79' '62' '74' '32' '41' '70' '29' '5' '58' '35' '51' '22' '16' '44'\n",
            " '39' '47' '18' '17' '88' '56' '30' '45' '66' '52' '54' '80' '33' '38'\n",
            " '92' '67' '46' '13' '89' '61' '49' '26' '57' '31' '90' '81' '25' '37'\n",
            " '76' '87' '23' '55' '86' '98' '21' '97' '1' '6' '14' '82' '11' '19' '9'\n",
            " '12' '10' '8' '7' '4' '93']\n",
            "\n",
            "\n",
            "column name: sex\n",
            "['M' 'F']\n",
            "\n",
            "\n",
            "column name: on_thyroxine\n",
            "['f' 't']\n",
            "\n",
            "\n",
            "column name: query_on_thyroxine\n",
            "['f' 't']\n",
            "\n",
            "\n",
            "column name: on_antithyroid_medication\n",
            "['f' 't']\n",
            "\n",
            "\n",
            "column name: thyroid_surgery\n",
            "['f' 't']\n",
            "\n",
            "\n",
            "column name: query_hypothyroid\n",
            "['f' 't']\n",
            "\n",
            "\n",
            "column name: query_hyperthyroid\n",
            "['f' 't']\n",
            "\n",
            "\n",
            "column name: pregnant\n",
            "['f' 't']\n",
            "\n",
            "\n",
            "column name: sick\n",
            "['f' 't']\n",
            "\n",
            "\n",
            "column name: tumor\n",
            "['f' 't']\n",
            "\n",
            "\n",
            "column name: lithium\n",
            "['f' 't']\n",
            "\n",
            "\n",
            "column name: goitre\n",
            "['f' 't']\n",
            "\n",
            "\n",
            "column name: TSH_measured\n",
            "['y' 'n']\n",
            "\n",
            "\n",
            "column name: TSH\n",
            "['30' '145' '0' '430' '7.30' '138' '7.70' '21' '92' '48' '36' '15' '15.30'\n",
            " '25' '61' '28' '170' '54' '216' '56' '71' '46' '70' '34' '53' '9.40'\n",
            " '126' '10' '530' '35' '65' '57' '125' '23' '80' '117' '49' '66' '8.20'\n",
            " '150' nan '18' '165' '164' '90' '77' '19' '58' '100' '213' '17' '235'\n",
            " '153' '13' '31' '109' '260' '43' '12' '11' '55' '6.50' '20' '7.50' '14'\n",
            " '60' '140' '33' '8.70' '0.25' '10.70' '82' '45' '42' '41' '160' '16' '89'\n",
            " '44' '176' '6.40' '183' '29' '37' '39' '7.90' '59' '68' '38' '47' '143'\n",
            " '6.60' '288' '96' '0.50' '1.20' '1.90' '0.09' '3.10' '0.40' '0.85' '0.30'\n",
            " '0.90' '4.60' '0.20' '5.80' '4' '1.40' '1.50' '2' '2.60' '2.90' '0.80'\n",
            " '4.90' '10.30' '2.30' '0.70' '0.60' '1.30' '2.50' '5.10' '1.70' '2.70'\n",
            " '22' '8.10' '3.30' '5' '3.20' '1.80' '1.10' '0.46' '1' '5.60' '4.40'\n",
            " '16.50' '2.10' '6.30' '5.50' '7.40' '5.90' '0.15' '24' '2.20' '9.70'\n",
            " '9.60' '1.60' '3.70' '3' '2.80' '0.10' '4.20' '27' '0.05' '19.20' '8'\n",
            " '9.10' '3.60' '7.80' '3.80' '8.50' '9.20' '52' '2.40' '3.90' '0.03'\n",
            " '0.04' '26' '6.10' '0.65' '0.92' '7.60' '8.40' '1.05' '0.37' '178' '6.90'\n",
            " '4.50' '4.70' '40' '6' '4.10' '5.40' '8.30' '0.06' '8.80' '8.90' '7.10'\n",
            " '4.80' '0.43' '6.70' '200' '3.50' '8.60' '86' '0.21' '9' '0.26' '3.40'\n",
            " '6.20' '17.40' '85' '1.83' '63' '13.30' '0.02' '0.42' '9.50' '0.84'\n",
            " '0.88' '4.30' '0.67' '0.81' '5.20' '9.80' '76' '0.62' '0.01' '88' '0.68'\n",
            " '0.07' '0.69' '0.77' '9.90' '0.64' '14.30' '13.20' '6.80' '0.28' '0.91'\n",
            " '1.01' '0.23' '50' '32' '0.83' '0.08']\n",
            "\n",
            "\n",
            "column name: T3_measured\n",
            "['y' 'n']\n",
            "\n",
            "\n",
            "column name: T3\n",
            "['0.60' '1.70' '0.20' '0.40' '1.20' '1.10' '1.30' '1.90' nan '0.80' '2.20'\n",
            " '1.50' '2.70' '2' '0.30' '2.10' '0.50' '0.70' '1' '1.40' '2.30' '2.40'\n",
            " '0.90' '1.80' '0' '2.80' '1.60' '6.70' '3.30' '3' '2.50' '2.60' '4'\n",
            " '9.80' '3.90' '3.40' '3.80' '4.50' '3.20' '3.70' '4.30' '2.90' '3.10'\n",
            " '3.50' '3.60' '6.60' '4.90' '8.90' '4.10' '5' '5.30' '7.60' '7.30' '4.20'\n",
            " '4.40' '5.10' '7' '0.10' '0.05' '6.20' '5.50' '4.60' '4.70' '6.10' '8.10'\n",
            " '5.60' '4.80' '10.20' '8.60']\n",
            "\n",
            "\n",
            "column name: TT4_measured\n",
            "['y' 'n']\n",
            "\n",
            "\n",
            "column name: TT4\n",
            "['15' '19' '4' '6' '57' '27' '54' '34' '39' '7.60' '53' '38' '98' '44'\n",
            " '37' '81' '13' '17' '12' '50' '23' '14' '3.90' '52' '32' '30' '84' '10'\n",
            " '55' '24' '28' '11' '6.60' '31' '33' '41' '9' '78' '42' '8.10' '65' '16'\n",
            " '9.70' '46' '22' '61' '2.30' '7.50' '18' '66' '25' '43' '2' '3' '58' '59'\n",
            " '71' '74' '56' '40' '20' '48' '230' '70' '4.10' '63' '5.30' '2.90' '62'\n",
            " '75' '68' '45' '47' '36' '80' '109' '8.60' '83' '82' '101' '76' '103'\n",
            " '112' '206' '110' '93' '79' '121' nan '107' '88' '187' '254' '115' '113'\n",
            " '117' '164' '97' '64' '129' '111' '106' '95' '87' '105' '90' '67' '134'\n",
            " '35' '193' '143' '130' '108' '86' '96' '92' '99' '216' '152' '125' '138'\n",
            " '194' '91' '120' '102' '170' '126' '116' '140' '94' '159' '85' '210' '89'\n",
            " '151' '247' '139' '153' '123' '137' '161' '7.30' '72' '202' '122' '124'\n",
            " '178' '157' '118' '104' '135' '186' '131' '119' '100' '220' '176' '136'\n",
            " '183' '155' '208' '199' '154' '241' '169' '128' '235' '195' '267' '232'\n",
            " '197' '212' '149' '127' '245' '132' '162' '77' '142' '69' '173' '141'\n",
            " '156' '181' '189' '60' '114' '198' '147' '191' '177' '174' '207' '168'\n",
            " '73' '160' '145' '200' '182' '158' '209' '217' '430' '213' '218' '163'\n",
            " '296' '167' '148' '166' '185' '248' '172' '144' '150' '165' '196' '308'\n",
            " '146' '426' '224' '29' '204' '201' '133' '180' '184' '450' '244' '301'\n",
            " '255' '396' '223' '261' '250' '179' '190' '51' '221' '171' '242' '275'\n",
            " '211' '49' '205' '256' '214' '282' '287' '253' '269' '175' '228' '333'\n",
            " '258' '236' '225' '263' '283' '359' '203' '188' '240']\n",
            "\n",
            "\n",
            "column name: T4U_measured\n",
            "['y' 'n']\n",
            "\n",
            "\n",
            "column name: T4U\n",
            "['1.48' '1.13' '1' '1.04' '1.28' '1.19' '0.86' '1.05' '1.21' '1.02' '0.92'\n",
            " '1.29' '0.98' '1.08' '1.01' '1.18' '1.10' '1.27' '0.83' '1.11' '0.78'\n",
            " '1.39' '1.12' '0.93' '0.99' '0.90' '1.06' '0.68' '0.67' '1.14' '0.80'\n",
            " '0.96' '0.95' '1.46' '1.03' '0.94' '1.09' '1.24' '1.23' '1.53' '1.26'\n",
            " '1.40' '0.97' '1.17' '0.87' '0.61' '0.70' '1.07' '1.73' '1.45' '1.20'\n",
            " '0.89' '0.84' '0.91' '0.85' '1.35' '0.82' '1.50' '0.74' '1.71' '1.79'\n",
            " '0.73' '0.77' '1.25' nan '0.88' '0.72' '0' '0.79' '0.81' '0.71' '1.93'\n",
            " '1.32' '0.66' '1.68' '1.42' '1.70' '1.83' '1.41' '1.34' '1.65' '1.22'\n",
            " '0.75' '1.74' '0.69' '1.51' '1.16' '0.62' '0.54' '1.36' '1.33' '1.30'\n",
            " '0.48' '1.59' '1.75' '1.86' '1.38' '1.43' '1.62' '2.01' '0.76' '1.15'\n",
            " '1.57' '0.55' '1.66' '0.52' '1.97' '1.47' '1.88' '1.31' '1.55' '1.67'\n",
            " '0.60' '0.59' '1.37' '1.76' '0.64' '1.80' '0.41' '0.20' '1.77' '0.33'\n",
            " '1.54' '0.46' '1.44' '1.56' '0.56' '1.52' '0.58' '2.03' '0.65' '0.63'\n",
            " '1.96' '0.53' '0.47' '2.21' '1.69' '1.64' '1.49' '1.72' '1.58' '0.57'\n",
            " '1.61' '2' '1.63' '1.94' '0.50' '0.29' '0.49' '0.40']\n",
            "\n",
            "\n",
            "column name: FTI_measured\n",
            "['y' 'n']\n",
            "\n",
            "\n",
            "column name: FTI\n",
            "['10' '17' '0' '6' '44' '23' '63' '32' '7.50' '61' '41' '76' '45' '34'\n",
            " '81' '11' '16' '46' '22' '12' '5' '47' '29' '37' '60' '8.40' '8.50' '24'\n",
            " '28' '7' '49' '36' '15' '9' '80' '53' '7.20' '68' '6.60' '48' '21' '14'\n",
            " '2' '20' '1.40' '56' '3' '51' '13' '43' '78' '52' '64' '26' '35' '31'\n",
            " '133' '3.40' '54' '8.90' '57' '5.50' '58' '55' '2.80' '66' '4' '40' '50'\n",
            " '8.70' '87' '89' '112' '123' '99' '92' '104' '69' '196' '107' '106' '74'\n",
            " '97' nan '122' '84' '114' '124' '241' '119' '120' '136' '85' '127' '137'\n",
            " '197' '96' '77' '108' '82' '72' '94' '91' '240' '121' '109' '79' '100'\n",
            " '98' '73' '117' '165' '103' '88' '101' '126' '132' '128' '143' '152'\n",
            " '141' '186' '113' '102' '125' '93' '105' '159' '188' '71' '149' '116'\n",
            " '83' '176' '86' '140' '111' '158' '115' '171' '90' '95' '70' '135' '134'\n",
            " '178' '170' '205' '110' '155' '118' '131' '129' '142' '153' '75' '254'\n",
            " '246' '139' '185' '157' '147' '164' '130' '222' '174' '182' '144' '169'\n",
            " '257' '145' '345' '180' '167' '151' '154' '150' '219' '228' '65' '187'\n",
            " '166' '195' '208' '138' '33' '173' '146' '211' '181' '190' '221' '395'\n",
            " '216' '212' '148' '220' '370' '160' '59' '189' '203' '162' '168' '179'\n",
            " '184' '163' '67' '213' '354' '292' '172' '156' '334' '161' '177' '214'\n",
            " '194' '215' '217' '271' '250' '244' '258' '316' '200' '256' '232' '202'\n",
            " '39' '248' '237' '259' '19' '42' '235' '283' '305' '204' '229' '266'\n",
            " '198' '175' '209' '299' '450' '193' '227' '223' '337' '210' '218' '239'\n",
            " '355' '485']\n",
            "\n",
            "\n",
            "column name: TBG_measured\n",
            "['n' 'y']\n",
            "\n",
            "\n",
            "column name: TBG\n",
            "[0 '28' '34' '0' '19' '30' '25' '48' '39' '31' '16' '21' '37' '40' '27'\n",
            " '3.10' '38' '108' '20' '36' '17' '23' '35' '63' '9.30' '15' '26' '33'\n",
            " '41' '110' '22' '43' '53' '80' '47' '29' '32' '13' '24' '18' '45' '86'\n",
            " '50' '8.40' '52' '11' '12' '14' '65' '7.30' '8.50' '69' '122']\n"
          ],
          "name": "stdout"
        }
      ]
    },
    {
      "cell_type": "code",
      "metadata": {
        "id": "hStLaxt84ppw",
        "colab_type": "code",
        "colab": {}
      },
      "source": [
        "#changing columns to type category\n",
        "hyp[['status', 'sex', 'on_thyroxine', 'query_on_thyroxine','on_antithyroid_medication', 'thyroid_surgery', 'query_hypothyroid',\n",
        "       'query_hyperthyroid', 'pregnant', 'sick', 'tumor', 'lithium', 'goitre','TSH_measured', 'T3_measured', 'TT4_measured','T4U_measured', 'FTI_measured', 'TBG_measured']] = hyp[['status', 'sex', 'on_thyroxine', 'query_on_thyroxine','on_antithyroid_medication', 'thyroid_surgery', 'query_hypothyroid',\n",
        "       'query_hyperthyroid', 'pregnant', 'sick', 'tumor', 'lithium', 'goitre','TSH_measured', 'T3_measured', 'TT4_measured','T4U_measured', 'FTI_measured', 'TBG_measured']].astype('category')\n"
      ],
      "execution_count": 0,
      "outputs": []
    },
    {
      "cell_type": "code",
      "metadata": {
        "id": "J9CXQocQU66m",
        "colab_type": "code",
        "outputId": "b51db249-957b-42c0-9823-bca533b390df",
        "colab": {
          "base_uri": "https://localhost:8080/",
          "height": 77
        }
      },
      "source": [
        "#the numerical columns have the data type object. I shall fill all the nan values with the mode of each of the columns so as to be able to convert the columns to\n",
        "#int or float (where there are decimal points) data types\n",
        "ncols = hyp[['TSH', 'T3', 'TT4','T4U', 'FTI']]\n",
        "ncols.mode()"
      ],
      "execution_count": 15,
      "outputs": [
        {
          "output_type": "execute_result",
          "data": {
            "text/html": [
              "<div>\n",
              "<style scoped>\n",
              "    .dataframe tbody tr th:only-of-type {\n",
              "        vertical-align: middle;\n",
              "    }\n",
              "\n",
              "    .dataframe tbody tr th {\n",
              "        vertical-align: top;\n",
              "    }\n",
              "\n",
              "    .dataframe thead th {\n",
              "        text-align: right;\n",
              "    }\n",
              "</style>\n",
              "<table border=\"1\" class=\"dataframe\">\n",
              "  <thead>\n",
              "    <tr style=\"text-align: right;\">\n",
              "      <th></th>\n",
              "      <th>TSH</th>\n",
              "      <th>T3</th>\n",
              "      <th>TT4</th>\n",
              "      <th>T4U</th>\n",
              "      <th>FTI</th>\n",
              "    </tr>\n",
              "  </thead>\n",
              "  <tbody>\n",
              "    <tr>\n",
              "      <th>0</th>\n",
              "      <td>0</td>\n",
              "      <td>1.80</td>\n",
              "      <td>98</td>\n",
              "      <td>0.98</td>\n",
              "      <td>98</td>\n",
              "    </tr>\n",
              "  </tbody>\n",
              "</table>\n",
              "</div>"
            ],
            "text/plain": [
              "  TSH    T3 TT4   T4U FTI\n",
              "0   0  1.80  98  0.98  98"
            ]
          },
          "metadata": {
            "tags": []
          },
          "execution_count": 15
        }
      ]
    },
    {
      "cell_type": "code",
      "metadata": {
        "id": "tgaLbmpvw1ou",
        "colab_type": "code",
        "colab": {
          "base_uri": "https://localhost:8080/",
          "height": 70
        },
        "outputId": "e3ddee77-8768-46a6-de94-c24d9ed94ee3"
      },
      "source": [
        "hyp['age'].mode()"
      ],
      "execution_count": 56,
      "outputs": [
        {
          "output_type": "execute_result",
          "data": {
            "text/plain": [
              "0    59\n",
              "1    60\n",
              "dtype: object"
            ]
          },
          "metadata": {
            "tags": []
          },
          "execution_count": 56
        }
      ]
    },
    {
      "cell_type": "code",
      "metadata": {
        "id": "VQbbGxJ8ut1b",
        "colab_type": "code",
        "colab": {}
      },
      "source": [
        "#filling the nan values of the numerical columns with the mode value\n",
        "hyp['age'] = hyp['age'].fillna(59)\n",
        "hyp['TSH'] = hyp['TSH'].fillna(0)\n",
        "hyp['T3'] = hyp['T3'].fillna(1.80)\n",
        "hyp['TT4'] = hyp['TT4'].fillna(98)\n",
        "hyp['T4U'] = hyp['T4U'].fillna(0.98)\n",
        "hyp['FTI'] = hyp['FTI'].fillna(98)\n"
      ],
      "execution_count": 0,
      "outputs": []
    },
    {
      "cell_type": "code",
      "metadata": {
        "colab_type": "code",
        "id": "nSTR9qPOoh7N",
        "colab": {
          "base_uri": "https://localhost:8080/",
          "height": 496
        },
        "outputId": "5c37b955-fc86-48eb-f91a-de6d6275ac4a"
      },
      "source": [
        "#checking to see that all nan values have been replaced\n",
        "hyp.isnull().sum()"
      ],
      "execution_count": 17,
      "outputs": [
        {
          "output_type": "execute_result",
          "data": {
            "text/plain": [
              "status                       0\n",
              "age                          0\n",
              "sex                          0\n",
              "on_thyroxine                 0\n",
              "query_on_thyroxine           0\n",
              "on_antithyroid_medication    0\n",
              "thyroid_surgery              0\n",
              "query_hypothyroid            0\n",
              "query_hyperthyroid           0\n",
              "pregnant                     0\n",
              "sick                         0\n",
              "tumor                        0\n",
              "lithium                      0\n",
              "goitre                       0\n",
              "TSH_measured                 0\n",
              "TSH                          0\n",
              "T3_measured                  0\n",
              "T3                           0\n",
              "TT4_measured                 0\n",
              "TT4                          0\n",
              "T4U_measured                 0\n",
              "T4U                          0\n",
              "FTI_measured                 0\n",
              "FTI                          0\n",
              "TBG_measured                 0\n",
              "TBG                          0\n",
              "dtype: int64"
            ]
          },
          "metadata": {
            "tags": []
          },
          "execution_count": 17
        }
      ]
    },
    {
      "cell_type": "code",
      "metadata": {
        "id": "iU9GqEc_107V",
        "colab_type": "code",
        "colab": {
          "base_uri": "https://localhost:8080/",
          "height": 496
        },
        "outputId": "6455c822-771f-4362-9406-eb9be2a367b1"
      },
      "source": [
        "hyp.dtypes"
      ],
      "execution_count": 73,
      "outputs": [
        {
          "output_type": "execute_result",
          "data": {
            "text/plain": [
              "status                       category\n",
              "age                            object\n",
              "sex                          category\n",
              "on_thyroxine                 category\n",
              "query_on_thyroxine           category\n",
              "on_antithyroid_medication    category\n",
              "thyroid_surgery              category\n",
              "query_hypothyroid            category\n",
              "query_hyperthyroid           category\n",
              "pregnant                     category\n",
              "sick                         category\n",
              "tumor                        category\n",
              "lithium                      category\n",
              "goitre                       category\n",
              "TSH_measured                 category\n",
              "TSH                            object\n",
              "T3_measured                  category\n",
              "T3                             object\n",
              "TT4_measured                 category\n",
              "TT4                            object\n",
              "T4U_measured                 category\n",
              "T4U                            object\n",
              "FTI_measured                 category\n",
              "FTI                            object\n",
              "TBG_measured                 category\n",
              "TBG                            object\n",
              "dtype: object"
            ]
          },
          "metadata": {
            "tags": []
          },
          "execution_count": 73
        }
      ]
    },
    {
      "cell_type": "code",
      "metadata": {
        "id": "bDAY9TpGX6IP",
        "colab_type": "code",
        "colab": {}
      },
      "source": [
        "#converting the numerical datatypes to type int or float\n",
        "hyp['age'] = hyp['age'].astype(int)\n",
        "hyp[['TSH', 'T3', 'TT4','T4U', 'FTI','TBG']] = hyp[['TSH', 'T3', 'TT4','T4U', 'FTI','TBG']].astype(float)"
      ],
      "execution_count": 0,
      "outputs": []
    },
    {
      "cell_type": "code",
      "metadata": {
        "id": "qEhlQJbm1zIM",
        "colab_type": "code",
        "colab": {
          "base_uri": "https://localhost:8080/",
          "height": 496
        },
        "outputId": "db382451-0087-436c-9fb2-53ad4964150e"
      },
      "source": [
        "#confirming the changes have been made to the data types\n",
        "hyp.dtypes"
      ],
      "execution_count": 19,
      "outputs": [
        {
          "output_type": "execute_result",
          "data": {
            "text/plain": [
              "status                       category\n",
              "age                             int64\n",
              "sex                          category\n",
              "on_thyroxine                 category\n",
              "query_on_thyroxine           category\n",
              "on_antithyroid_medication    category\n",
              "thyroid_surgery              category\n",
              "query_hypothyroid            category\n",
              "query_hyperthyroid           category\n",
              "pregnant                     category\n",
              "sick                         category\n",
              "tumor                        category\n",
              "lithium                      category\n",
              "goitre                       category\n",
              "TSH_measured                 category\n",
              "TSH                           float64\n",
              "T3_measured                  category\n",
              "T3                            float64\n",
              "TT4_measured                 category\n",
              "TT4                           float64\n",
              "T4U_measured                 category\n",
              "T4U                           float64\n",
              "FTI_measured                 category\n",
              "FTI                           float64\n",
              "TBG_measured                 category\n",
              "TBG                           float64\n",
              "dtype: object"
            ]
          },
          "metadata": {
            "tags": []
          },
          "execution_count": 19
        }
      ]
    },
    {
      "cell_type": "code",
      "metadata": {
        "id": "qBnV2TDNFXea",
        "colab_type": "code",
        "colab": {}
      },
      "source": [
        "#saving the cleaned dataset to csv\n",
        "hyp.to_csv('cleanhypothyroid.csv')"
      ],
      "execution_count": 0,
      "outputs": []
    },
    {
      "cell_type": "markdown",
      "metadata": {
        "id": "T82pvP1r3ZOB",
        "colab_type": "text"
      },
      "source": [
        "# Exploratory Data Analysis"
      ]
    },
    {
      "cell_type": "code",
      "metadata": {
        "id": "yY_4IRru3Y09",
        "colab_type": "code",
        "colab": {
          "base_uri": "https://localhost:8080/",
          "height": 123
        },
        "outputId": "5e53dd00-a64f-4eea-b5ae-afad4f7b36f4"
      },
      "source": [
        "hyp.columns"
      ],
      "execution_count": 77,
      "outputs": [
        {
          "output_type": "execute_result",
          "data": {
            "text/plain": [
              "Index(['status', 'age', 'sex', 'on_thyroxine', 'query_on_thyroxine',\n",
              "       'on_antithyroid_medication', 'thyroid_surgery', 'query_hypothyroid',\n",
              "       'query_hyperthyroid', 'pregnant', 'sick', 'tumor', 'lithium', 'goitre',\n",
              "       'TSH_measured', 'TSH', 'T3_measured', 'T3', 'TT4_measured', 'TT4',\n",
              "       'T4U_measured', 'T4U', 'FTI_measured', 'FTI', 'TBG_measured', 'TBG'],\n",
              "      dtype='object')"
            ]
          },
          "metadata": {
            "tags": []
          },
          "execution_count": 77
        }
      ]
    },
    {
      "cell_type": "code",
      "metadata": {
        "id": "SNkMv-CHBoV7",
        "colab_type": "code",
        "colab": {
          "base_uri": "https://localhost:8080/",
          "height": 287
        },
        "outputId": "d931f7f8-6b1a-483d-aee7-938c4c7f2213"
      },
      "source": [
        "#the function shows the measures of central tendencies and location for the dataset\n",
        "hyp.describe()"
      ],
      "execution_count": 21,
      "outputs": [
        {
          "output_type": "execute_result",
          "data": {
            "text/html": [
              "<div>\n",
              "<style scoped>\n",
              "    .dataframe tbody tr th:only-of-type {\n",
              "        vertical-align: middle;\n",
              "    }\n",
              "\n",
              "    .dataframe tbody tr th {\n",
              "        vertical-align: top;\n",
              "    }\n",
              "\n",
              "    .dataframe thead th {\n",
              "        text-align: right;\n",
              "    }\n",
              "</style>\n",
              "<table border=\"1\" class=\"dataframe\">\n",
              "  <thead>\n",
              "    <tr style=\"text-align: right;\">\n",
              "      <th></th>\n",
              "      <th>age</th>\n",
              "      <th>TSH</th>\n",
              "      <th>T3</th>\n",
              "      <th>TT4</th>\n",
              "      <th>T4U</th>\n",
              "      <th>FTI</th>\n",
              "      <th>TBG</th>\n",
              "    </tr>\n",
              "  </thead>\n",
              "  <tbody>\n",
              "    <tr>\n",
              "      <th>count</th>\n",
              "      <td>3090.000000</td>\n",
              "      <td>3090.000000</td>\n",
              "      <td>3090.000000</td>\n",
              "      <td>3090.000000</td>\n",
              "      <td>3090.00000</td>\n",
              "      <td>3090.000000</td>\n",
              "      <td>3090.000000</td>\n",
              "    </tr>\n",
              "    <tr>\n",
              "      <th>mean</th>\n",
              "      <td>52.201942</td>\n",
              "      <td>5.062036</td>\n",
              "      <td>1.902330</td>\n",
              "      <td>107.603204</td>\n",
              "      <td>0.98479</td>\n",
              "      <td>110.646893</td>\n",
              "      <td>2.566861</td>\n",
              "    </tr>\n",
              "    <tr>\n",
              "      <th>std</th>\n",
              "      <td>18.226782</td>\n",
              "      <td>22.395322</td>\n",
              "      <td>0.870453</td>\n",
              "      <td>43.414038</td>\n",
              "      <td>0.21021</td>\n",
              "      <td>41.525491</td>\n",
              "      <td>10.104470</td>\n",
              "    </tr>\n",
              "    <tr>\n",
              "      <th>min</th>\n",
              "      <td>1.000000</td>\n",
              "      <td>0.000000</td>\n",
              "      <td>0.000000</td>\n",
              "      <td>2.000000</td>\n",
              "      <td>0.00000</td>\n",
              "      <td>0.000000</td>\n",
              "      <td>0.000000</td>\n",
              "    </tr>\n",
              "    <tr>\n",
              "      <th>25%</th>\n",
              "      <td>37.250000</td>\n",
              "      <td>0.000000</td>\n",
              "      <td>1.500000</td>\n",
              "      <td>85.000000</td>\n",
              "      <td>0.87000</td>\n",
              "      <td>92.000000</td>\n",
              "      <td>0.000000</td>\n",
              "    </tr>\n",
              "    <tr>\n",
              "      <th>50%</th>\n",
              "      <td>58.000000</td>\n",
              "      <td>0.400000</td>\n",
              "      <td>1.800000</td>\n",
              "      <td>100.000000</td>\n",
              "      <td>0.98000</td>\n",
              "      <td>104.000000</td>\n",
              "      <td>0.000000</td>\n",
              "    </tr>\n",
              "    <tr>\n",
              "      <th>75%</th>\n",
              "      <td>65.000000</td>\n",
              "      <td>1.700000</td>\n",
              "      <td>2.200000</td>\n",
              "      <td>124.000000</td>\n",
              "      <td>1.05000</td>\n",
              "      <td>125.000000</td>\n",
              "      <td>0.000000</td>\n",
              "    </tr>\n",
              "    <tr>\n",
              "      <th>max</th>\n",
              "      <td>98.000000</td>\n",
              "      <td>530.000000</td>\n",
              "      <td>10.200000</td>\n",
              "      <td>450.000000</td>\n",
              "      <td>2.21000</td>\n",
              "      <td>485.000000</td>\n",
              "      <td>122.000000</td>\n",
              "    </tr>\n",
              "  </tbody>\n",
              "</table>\n",
              "</div>"
            ],
            "text/plain": [
              "               age          TSH  ...          FTI          TBG\n",
              "count  3090.000000  3090.000000  ...  3090.000000  3090.000000\n",
              "mean     52.201942     5.062036  ...   110.646893     2.566861\n",
              "std      18.226782    22.395322  ...    41.525491    10.104470\n",
              "min       1.000000     0.000000  ...     0.000000     0.000000\n",
              "25%      37.250000     0.000000  ...    92.000000     0.000000\n",
              "50%      58.000000     0.400000  ...   104.000000     0.000000\n",
              "75%      65.000000     1.700000  ...   125.000000     0.000000\n",
              "max      98.000000   530.000000  ...   485.000000   122.000000\n",
              "\n",
              "[8 rows x 7 columns]"
            ]
          },
          "metadata": {
            "tags": []
          },
          "execution_count": 21
        }
      ]
    },
    {
      "cell_type": "code",
      "metadata": {
        "id": "vc4IrKu47g7R",
        "colab_type": "code",
        "colab": {
          "base_uri": "https://localhost:8080/",
          "height": 717
        },
        "outputId": "4fbcd3cb-7cf9-4e70-9668-b24ca7c14c34"
      },
      "source": [
        "#checking for the presence of outliers\n",
        "#created a list for all the numerical columns in the hyp dataframe\n",
        "#used a for loop to iterate over the list of the numerical columns so as to plot all the boxplots\n",
        "\n",
        "numericcols = ['age','TSH', 'T3', 'TT4','T4U', 'FTI']\n",
        "fig, axes = plt.subplots(ncols = 2, nrows = 3, figsize=(14,12))\n",
        "for ax, data,column in zip(axes.flatten(),hyp,numericcols):\n",
        "  sns.boxplot(hyp[column],ax=ax)"
      ],
      "execution_count": 22,
      "outputs": [
        {
          "output_type": "display_data",
          "data": {
            "image/png": "[encoded data removed]",
            "text/plain": [
              "<Figure size 1008x864 with 6 Axes>"
            ]
          },
          "metadata": {
            "tags": []
          }
        }
      ]
    },
    {
      "cell_type": "markdown",
      "metadata": {
        "id": "t0L3xY5-wpMY",
        "colab_type": "text"
      },
      "source": [
        "The data seems to have many outliers. I shall work with the data as is and see how the model behaves."
      ]
    },
    {
      "cell_type": "code",
      "metadata": {
        "id": "n6XMmCUP_joP",
        "colab_type": "code",
        "colab": {
          "base_uri": "https://localhost:8080/",
          "height": 158
        },
        "outputId": "7fdcc417-0507-4f0c-b8dc-d6ffb6604e5c"
      },
      "source": [
        "Q1 = hyp.quantile(0.25)\n",
        "Q3 = hyp.quantile(0.75)\n",
        "IQR = Q3 - Q1\n",
        "print(IQR)"
      ],
      "execution_count": 99,
      "outputs": [
        {
          "output_type": "stream",
          "text": [
            "age    27.75\n",
            "TSH     1.70\n",
            "T3      0.70\n",
            "TT4    39.00\n",
            "T4U     0.18\n",
            "FTI    33.00\n",
            "TBG     0.00\n",
            "dtype: float64\n"
          ],
          "name": "stdout"
        }
      ]
    },
    {
      "cell_type": "code",
      "metadata": {
        "id": "cIWqa9sf_vga",
        "colab_type": "code",
        "colab": {}
      },
      "source": [
        "#checking for outliers using the inter quartile range\n",
        "(hyp <(Q1 - 1.5*IQR)) |(hyp > (Q3 + 1.5*IQR))"
      ],
      "execution_count": 0,
      "outputs": []
    },
    {
      "cell_type": "code",
      "metadata": {
        "id": "Z-sMuwO4ATDh",
        "colab_type": "code",
        "colab": {}
      },
      "source": [
        "#df = df[~((df < (Q1 - 1.5 * IQR)) |(df > (Q3 + 1.5 * IQR))).any(axis=1)]\n",
        "#df.shape"
      ],
      "execution_count": 0,
      "outputs": []
    },
    {
      "cell_type": "code",
      "metadata": {
        "id": "7JBYW2KHk9mc",
        "colab_type": "code",
        "colab": {
          "base_uri": "https://localhost:8080/",
          "height": 301
        },
        "outputId": "8b4ee6c1-8458-432d-fef1-53f9121cfb5d"
      },
      "source": [
        "#graph showing the number of candidates who participated in the exercise in terms of gender.\n",
        "sns.countplot(x='sex',data=hyp,)"
      ],
      "execution_count": 24,
      "outputs": [
        {
          "output_type": "execute_result",
          "data": {
            "text/plain": [
              "<matplotlib.axes._subplots.AxesSubplot at 0x7fc4089bd978>"
            ]
          },
          "metadata": {
            "tags": []
          },
          "execution_count": 24
        },
        {
          "output_type": "display_data",
          "data": {
            "image/png": "[encoded data removed]",
            "text/plain": [
              "<Figure size 432x288 with 1 Axes>"
            ]
          },
          "metadata": {
            "tags": []
          }
        }
      ]
    },
    {
      "cell_type": "code",
      "metadata": {
        "id": "V1KQXI3LAwbm",
        "colab_type": "code",
        "colab": {
          "base_uri": "https://localhost:8080/",
          "height": 123
        },
        "outputId": "f7b21849-d80b-42f1-fec9-cdfc4d383340"
      },
      "source": [
        "hyp.columns"
      ],
      "execution_count": 104,
      "outputs": [
        {
          "output_type": "execute_result",
          "data": {
            "text/plain": [
              "Index(['status', 'age', 'sex', 'on_thyroxine', 'query_on_thyroxine',\n",
              "       'on_antithyroid_medication', 'thyroid_surgery', 'query_hypothyroid',\n",
              "       'query_hyperthyroid', 'pregnant', 'sick', 'tumor', 'lithium', 'goitre',\n",
              "       'TSH_measured', 'TSH', 'T3_measured', 'T3', 'TT4_measured', 'TT4',\n",
              "       'T4U_measured', 'T4U', 'FTI_measured', 'FTI', 'TBG_measured', 'TBG'],\n",
              "      dtype='object')"
            ]
          },
          "metadata": {
            "tags": []
          },
          "execution_count": 104
        }
      ]
    },
    {
      "cell_type": "code",
      "metadata": {
        "id": "jOXaTNMAl4j_",
        "colab_type": "code",
        "colab": {
          "base_uri": "https://localhost:8080/",
          "height": 368
        },
        "outputId": "5ed0e0a6-f6d3-45cb-a154-3177f0c82ce1"
      },
      "source": [
        "sns.catplot(x=\"status\", col=\"query_on_thyroxine\", data=hyp, kind=\"count\", height=5, aspect=.7);  "
      ],
      "execution_count": 108,
      "outputs": [
        {
          "output_type": "display_data",
          "data": {
            "image/png": "[encoded data removed]",
            "text/plain": [
              "<Figure size 504x360 with 2 Axes>"
            ]
          },
          "metadata": {
            "tags": []
          }
        }
      ]
    },
    {
      "cell_type": "markdown",
      "metadata": {
        "id": "pMx7-9h1Cspd",
        "colab_type": "text"
      },
      "source": [
        "# Random Forest Model"
      ]
    },
    {
      "cell_type": "code",
      "metadata": {
        "id": "kc5IV-jaDv4W",
        "colab_type": "code",
        "colab": {}
      },
      "source": [
        "from sklearn.ensemble import RandomForestRegressor\n",
        "from sklearn.model_selection import train_test_split\n",
        "from sklearn import preprocessing\n",
        "from sklearn import metrics\n",
        "from sklearn.tree import export_graphviz\n",
        "from sklearn.externals.six import StringIO  \n",
        "from IPython.display import Image  \n",
        "import pydotplus"
      ],
      "execution_count": 0,
      "outputs": []
    },
    {
      "cell_type": "code",
      "metadata": {
        "id": "5gdV8ZamHyG4",
        "colab_type": "code",
        "colab": {}
      },
      "source": [
        "#using the label encoder to decode the sex and status column\n",
        "le = preprocessing.LabelEncoder()\n",
        "hyp['status'] = le.fit_transform(hyp['status'])\n",
        "hyp['sex'] = le.fit_transform(hyp['sex'])"
      ],
      "execution_count": 0,
      "outputs": []
    },
    {
      "cell_type": "code",
      "metadata": {
        "id": "lhA1w9g92Byp",
        "colab_type": "code",
        "colab": {
          "base_uri": "https://localhost:8080/",
          "height": 34
        },
        "outputId": "f3c4d822-dffe-4499-917c-5414473e6224"
      },
      "source": [
        "hyp.shape"
      ],
      "execution_count": 43,
      "outputs": [
        {
          "output_type": "execute_result",
          "data": {
            "text/plain": [
              "(3090, 26)"
            ]
          },
          "metadata": {
            "tags": []
          },
          "execution_count": 43
        }
      ]
    },
    {
      "cell_type": "code",
      "metadata": {
        "id": "obA3SXbcDv04",
        "colab_type": "code",
        "colab": {}
      },
      "source": [
        "test_features = hyp.drop(['status'], axis = 1)\n",
        "X = test_features\n",
        "y = hyp['status']"
      ],
      "execution_count": 0,
      "outputs": []
    },
    {
      "cell_type": "code",
      "metadata": {
        "id": "z-okU5Qp2HpA",
        "colab_type": "code",
        "colab": {
          "base_uri": "https://localhost:8080/",
          "height": 34
        },
        "outputId": "b622093c-f398-482a-eff4-7818abc7b4fc"
      },
      "source": [
        "X.shape"
      ],
      "execution_count": 44,
      "outputs": [
        {
          "output_type": "execute_result",
          "data": {
            "text/plain": [
              "(3090, 25)"
            ]
          },
          "metadata": {
            "tags": []
          },
          "execution_count": 44
        }
      ]
    },
    {
      "cell_type": "code",
      "metadata": {
        "id": "GvWj0gJTDvuX",
        "colab_type": "code",
        "colab": {}
      },
      "source": [
        "#converting the features into dummies\n",
        "X  = pd.get_dummies(X, drop_first = True)"
      ],
      "execution_count": 0,
      "outputs": []
    },
    {
      "cell_type": "code",
      "metadata": {
        "id": "_bZe442nDvqy",
        "colab_type": "code",
        "colab": {
          "base_uri": "https://localhost:8080/",
          "height": 287
        },
        "outputId": "9020d3a1-2f90-4bfb-defb-af79b3ba3f34"
      },
      "source": [
        "#training the data\n",
        "X_train, X_test, y_train, y_test = train_test_split(X,y, test_size = 0.3, random_state =0 )\n",
        "forest = RandomForestRegressor(n_estimators = 100, random_state=42, min_samples_split = 20, max_depth=5)\n",
        "forest = forest.fit(X_train, y_train)\n",
        "#predicting the model\n",
        "y_pred = forest.predict(X_test)\n",
        "\n",
        "y_pred = np.round(y_pred)\n",
        "\n",
        "#creating a dataframe to compare the actual vs the predicted\n",
        "comparison_frame = pd.DataFrame({'Actual': y_test, 'Predicted': y_pred})\n",
        "\n",
        "comparison_frame.describe()"
      ],
      "execution_count": 68,
      "outputs": [
        {
          "output_type": "execute_result",
          "data": {
            "text/html": [
              "<div>\n",
              "<style scoped>\n",
              "    .dataframe tbody tr th:only-of-type {\n",
              "        vertical-align: middle;\n",
              "    }\n",
              "\n",
              "    .dataframe tbody tr th {\n",
              "        vertical-align: top;\n",
              "    }\n",
              "\n",
              "    .dataframe thead th {\n",
              "        text-align: right;\n",
              "    }\n",
              "</style>\n",
              "<table border=\"1\" class=\"dataframe\">\n",
              "  <thead>\n",
              "    <tr style=\"text-align: right;\">\n",
              "      <th></th>\n",
              "      <th>Actual</th>\n",
              "      <th>Predicted</th>\n",
              "    </tr>\n",
              "  </thead>\n",
              "  <tbody>\n",
              "    <tr>\n",
              "      <th>count</th>\n",
              "      <td>927.000000</td>\n",
              "      <td>927.000000</td>\n",
              "    </tr>\n",
              "    <tr>\n",
              "      <th>mean</th>\n",
              "      <td>0.954693</td>\n",
              "      <td>0.955771</td>\n",
              "    </tr>\n",
              "    <tr>\n",
              "      <th>std</th>\n",
              "      <td>0.208090</td>\n",
              "      <td>0.205714</td>\n",
              "    </tr>\n",
              "    <tr>\n",
              "      <th>min</th>\n",
              "      <td>0.000000</td>\n",
              "      <td>0.000000</td>\n",
              "    </tr>\n",
              "    <tr>\n",
              "      <th>25%</th>\n",
              "      <td>1.000000</td>\n",
              "      <td>1.000000</td>\n",
              "    </tr>\n",
              "    <tr>\n",
              "      <th>50%</th>\n",
              "      <td>1.000000</td>\n",
              "      <td>1.000000</td>\n",
              "    </tr>\n",
              "    <tr>\n",
              "      <th>75%</th>\n",
              "      <td>1.000000</td>\n",
              "      <td>1.000000</td>\n",
              "    </tr>\n",
              "    <tr>\n",
              "      <th>max</th>\n",
              "      <td>1.000000</td>\n",
              "      <td>1.000000</td>\n",
              "    </tr>\n",
              "  </tbody>\n",
              "</table>\n",
              "</div>"
            ],
            "text/plain": [
              "           Actual   Predicted\n",
              "count  927.000000  927.000000\n",
              "mean     0.954693    0.955771\n",
              "std      0.208090    0.205714\n",
              "min      0.000000    0.000000\n",
              "25%      1.000000    1.000000\n",
              "50%      1.000000    1.000000\n",
              "75%      1.000000    1.000000\n",
              "max      1.000000    1.000000"
            ]
          },
          "metadata": {
            "tags": []
          },
          "execution_count": 68
        }
      ]
    },
    {
      "cell_type": "code",
      "metadata": {
        "id": "D8r0Ykmp4VkL",
        "colab_type": "code",
        "colab": {
          "base_uri": "https://localhost:8080/",
          "height": 52
        },
        "outputId": "a488ba24-c711-4817-c908-a6143e88ce06"
      },
      "source": [
        "print(metrics.accuracy_score(y_test, y_pred))\n",
        "print(metrics.f1_score(y_test,y_pred))"
      ],
      "execution_count": 72,
      "outputs": [
        {
          "output_type": "stream",
          "text": [
            "0.9946062567421791\n",
            "0.9971767363071711\n"
          ],
          "name": "stdout"
        }
      ]
    },
    {
      "cell_type": "code",
      "metadata": {
        "id": "iLFEcYEb48pn",
        "colab_type": "code",
        "colab": {
          "base_uri": "https://localhost:8080/",
          "height": 52
        },
        "outputId": "b02af7a5-ef5c-4372-e904-ef5fe7ec4ae8"
      },
      "source": [
        "#creating a confusion matrix to show \n",
        "metrics.confusion_matrix(y_test, y_pred)\n"
      ],
      "execution_count": 70,
      "outputs": [
        {
          "output_type": "execute_result",
          "data": {
            "text/plain": [
              "array([[ 39,   3],\n",
              "       [  2, 883]])"
            ]
          },
          "metadata": {
            "tags": []
          },
          "execution_count": 70
        }
      ]
    },
    {
      "cell_type": "code",
      "metadata": {
        "id": "nWGhzW1pDvhj",
        "colab_type": "code",
        "colab": {
          "base_uri": "https://localhost:8080/",
          "height": 792
        },
        "outputId": "410d7821-5c24-4ce7-8c7f-f4f66651d024"
      },
      "source": [
        "dot_data = StringIO()\n",
        "# pick a specific tree from the forest\n",
        "tree = forest.estimators_[50]\n",
        "\n",
        "export_graphviz(tree, out_file=dot_data,  \n",
        "                filled=True, rounded=True,\n",
        "                special_characters=True,feature_names = X.columns)\n",
        "graph = pydotplus.graph_from_dot_data(dot_data.getvalue())  \n",
        "graph.write_png('hypothyroid_forest.png')\n",
        "Image(graph.create_png())"
      ],
      "execution_count": 71,
      "outputs": [
        {
          "output_type": "execute_result",
          "data": {
            "image/png": "[encoded data removed]",
            "text/plain": [
              "<IPython.core.display.Image object>"
            ]
          },
          "metadata": {
            "tags": []
          },
          "execution_count": 71
        }
      ]
    },
    {
      "cell_type": "markdown",
      "metadata": {
        "id": "mGj6YWTRz3ie",
        "colab_type": "text"
      },
      "source": [
        "## Feature Importance\n",
        "With feature importance, you get to see the variables that are more important than others."
      ]
    },
    {
      "cell_type": "code",
      "metadata": {
        "id": "nvuHTB6fMLuQ",
        "colab_type": "code",
        "colab": {
          "base_uri": "https://localhost:8080/",
          "height": 461
        },
        "outputId": "e937b0aa-302f-4d85-fdbf-6ae22d68cf59"
      },
      "source": [
        "#creating the importance variable\n",
        "importances = list(tree.feature_importances_)\n",
        "#connecting each feature with its importance\n",
        "feature_importances = [(feature, round(importance, 5)) for feature, importance in zip(test_features, importances)]\n",
        "feature_importances = sorted(feature_importances, key = lambda x: x[1], reverse = True)\n",
        "# Print out the feature and importances \n",
        "[print('Variable: {:20} Importance: {}'.format(*pair)) for pair in feature_importances];\n"
      ],
      "execution_count": 76,
      "outputs": [
        {
          "output_type": "stream",
          "text": [
            "Variable: query_hypothyroid    Importance: 0.77071\n",
            "Variable: on_thyroxine         Importance: 0.1747\n",
            "Variable: thyroid_surgery      Importance: 0.02193\n",
            "Variable: goitre               Importance: 0.01596\n",
            "Variable: tumor                Importance: 0.01445\n",
            "Variable: query_on_thyroxine   Importance: 0.00224\n",
            "Variable: age                  Importance: 0.0\n",
            "Variable: sex                  Importance: 0.0\n",
            "Variable: on_antithyroid_medication Importance: 0.0\n",
            "Variable: query_hyperthyroid   Importance: 0.0\n",
            "Variable: pregnant             Importance: 0.0\n",
            "Variable: sick                 Importance: 0.0\n",
            "Variable: lithium              Importance: 0.0\n",
            "Variable: TSH_measured         Importance: 0.0\n",
            "Variable: TSH                  Importance: 0.0\n",
            "Variable: T3_measured          Importance: 0.0\n",
            "Variable: T3                   Importance: 0.0\n",
            "Variable: TT4_measured         Importance: 0.0\n",
            "Variable: TT4                  Importance: 0.0\n",
            "Variable: T4U_measured         Importance: 0.0\n",
            "Variable: T4U                  Importance: 0.0\n",
            "Variable: FTI_measured         Importance: 0.0\n",
            "Variable: FTI                  Importance: 0.0\n",
            "Variable: TBG_measured         Importance: 0.0\n",
            "Variable: TBG                  Importance: 0.0\n"
          ],
          "name": "stdout"
        }
      ]
    },
    {
      "cell_type": "code",
      "metadata": {
        "id": "eRrEOQiK0c0h",
        "colab_type": "code",
        "colab": {
          "base_uri": "https://localhost:8080/",
          "height": 417
        },
        "outputId": "1f956569-bc18-41c1-f954-881939fc0625"
      },
      "source": [
        "#creating a bar graph that shows the visualization of the important features\n",
        "x_values = list(range(len(importances)))\n",
        "plt.bar(x_values, importances, orientation = 'vertical')\n",
        "plt.xticks(x_values, test_features, rotation='vertical')\n",
        "plt.ylabel('Importance'); plt.xlabel('Variable'); plt.title('Variable Importances');"
      ],
      "execution_count": 77,
      "outputs": [
        {
          "output_type": "display_data",
          "data": {
            "image/png": "[encoded data removed]",
            "text/plain": [
              "<Figure size 432x288 with 1 Axes>"
            ]
          },
          "metadata": {
            "tags": []
          }
        }
      ]
    },
    {
      "cell_type": "markdown",
      "metadata": {
        "id": "fY5VWI7E8xGP",
        "colab_type": "text"
      },
      "source": [
        "# SVM model"
      ]
    },
    {
      "cell_type": "code",
      "metadata": {
        "id": "dLZstsxi0cw2",
        "colab_type": "code",
        "colab": {}
      },
      "source": [
        "from sklearn.svm import SVC,LinearSVC\n",
        "from sklearn import model_selection\n",
        "colum =hyp[['query_hypothyroid', 'FTI']]\n",
        "colum = pd.get_dummies(colum)\n",
        "target =hyp['status']\n",
        "x_train, x_test, y_train, y_test = train_test_split(colum, target, test_size=0.25, random_state=0)\n",
        "#listing the models i shall use then append them to a list\n",
        "models = []\n",
        "models.append(('Polynormial', SVC(kernel='poly') ))\n",
        "models.append(('Radial Basis Function', SVC(kernel='rbf')))\n",
        "models.append(('Linear', SVC(kernel='linear')))\n",
        "models.append(('Sigmoid', SVC(kernel='sigmoid')))\n",
        "#model evaluation\n",
        "results = []\n",
        "names = []\n",
        "for name, model in models:\n",
        " kfold = model_selection.KFold(n_splits=3, random_state=0)\n",
        " cv_results = model_selection.cross_val_score(model, x_train, y_train, cv=kfold, scoring='accuracy')\n",
        " results.append(cv_results)\n",
        " names.append(name)\n",
        " msg = \"%s: %f (%f)\" % (name, cv_results.mean(), cv_results.std())\n",
        " print(msg)"
      ],
      "execution_count": 0,
      "outputs": []
    },
    {
      "cell_type": "code",
      "metadata": {
        "id": "l61nxVnz0cte",
        "colab_type": "code",
        "colab": {}
      },
      "source": [
        ""
      ],
      "execution_count": 0,
      "outputs": []
    }
  ]
}